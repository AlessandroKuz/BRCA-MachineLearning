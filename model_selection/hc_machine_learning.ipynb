{
 "cells": [
  {
   "cell_type": "code",
   "execution_count": 2,
   "id": "initial_id",
   "metadata": {
    "ExecuteTime": {
     "end_time": "2023-11-19T18:31:47.035032200Z",
     "start_time": "2023-11-19T18:31:45.590897200Z"
    },
    "collapsed": true
   },
   "outputs": [],
   "source": [
    "from preprocess_pipeline_hc_dataset import Create_Pipeline\n",
    "from sklearn.model_selection import StratifiedKFold\n",
    "from sklearn.model_selection import train_test_split\n",
    "from sklearn.metrics import f1_score\n",
    "import pandas as pd\n",
    "import numpy as np"
   ]
  },
  {
   "cell_type": "markdown",
   "id": "177f94cdde4cdc05",
   "metadata": {
    "collapsed": false
   },
   "source": [
    "# Load Iniziale Dataset"
   ]
  },
  {
   "cell_type": "code",
   "execution_count": 30,
   "id": "42364f641b118fba",
   "metadata": {
    "ExecuteTime": {
     "end_time": "2023-11-19T18:31:47.180857400Z",
     "start_time": "2023-11-19T18:31:47.034040800Z"
    },
    "collapsed": false
   },
   "outputs": [
    {
     "name": "stderr",
     "output_type": "stream",
     "text": [
      "C:\\Users\\AlessandroKuz\\AppData\\Local\\Temp\\ipykernel_1876\\1696362052.py:1: DtypeWarning: Columns (7) have mixed types. Specify dtype option on import or set low_memory=False.\n",
      "  df = pd.read_csv(r'../data/DATASET_COMPLETO_HC.csv')\n"
     ]
    }
   ],
   "source": [
    "df = pd.read_csv(r'../data/DATASET_COMPLETO_HC.csv')"
   ]
  },
  {
   "cell_type": "code",
   "execution_count": 3,
   "id": "fab24dcff99e8e8",
   "metadata": {
    "ExecuteTime": {
     "end_time": "2023-11-19T18:31:47.180857400Z",
     "start_time": "2023-11-19T18:31:47.167899200Z"
    },
    "collapsed": false
   },
   "outputs": [],
   "source": [
    "df[\"LABEL\"] = df[\"LABEL\"].map({\"NEG\": 0, \"POS\": 1, \"VUS\": 2})"
   ]
  },
  {
   "cell_type": "code",
   "execution_count": 4,
   "metadata": {},
   "outputs": [
    {
     "data": {
      "text/plain": [
       "LABEL\n",
       "0    19566\n",
       "2      144\n",
       "1       11\n",
       "Name: count, dtype: int64"
      ]
     },
     "execution_count": 4,
     "metadata": {},
     "output_type": "execute_result"
    }
   ],
   "source": [
    "df['LABEL'].value_counts()"
   ]
  },
  {
   "cell_type": "code",
   "execution_count": 5,
   "id": "b52ce09984cba657",
   "metadata": {
    "ExecuteTime": {
     "end_time": "2023-11-19T18:31:47.196543700Z",
     "start_time": "2023-11-19T18:31:47.179859100Z"
    },
    "collapsed": false
   },
   "outputs": [],
   "source": [
    "masks_label = df['LABEL'] == 2\n",
    "pre_train_df, predict_df = df[~masks_label], df[masks_label]"
   ]
  },
  {
   "cell_type": "code",
   "execution_count": 6,
   "id": "60e68392b81bba22",
   "metadata": {
    "ExecuteTime": {
     "end_time": "2023-11-19T18:31:47.248905500Z",
     "start_time": "2023-11-19T18:31:47.201078300Z"
    },
    "collapsed": false
   },
   "outputs": [],
   "source": [
    "X, y = pre_train_df.drop(['LABEL'], axis=1), pre_train_df['LABEL']\n",
    "X_pred, y_pred = predict_df.drop(['LABEL'], axis=1), predict_df['LABEL']"
   ]
  },
  {
   "cell_type": "code",
   "execution_count": 7,
   "id": "21c89de8906713d5",
   "metadata": {
    "ExecuteTime": {
     "end_time": "2023-11-19T18:31:47.274924600Z",
     "start_time": "2023-11-19T18:31:47.210636600Z"
    },
    "collapsed": false
   },
   "outputs": [],
   "source": [
    "X_train, X_test, y_train, y_test = train_test_split(X, y, test_size=0.2, random_state=21, stratify=y)"
   ]
  },
  {
   "cell_type": "code",
   "execution_count": 8,
   "metadata": {},
   "outputs": [],
   "source": [
    "X_test, X_val, y_test, y_val = train_test_split(X_test, y_test, test_size=0.5, random_state=21, stratify=y_test)"
   ]
  },
  {
   "cell_type": "markdown",
   "id": "afb44af1a4128f73",
   "metadata": {
    "collapsed": false
   },
   "source": [
    "# Pipeline Preprocessing"
   ]
  },
  {
   "cell_type": "code",
   "execution_count": 9,
   "id": "8b72fff0b1e515ba",
   "metadata": {
    "ExecuteTime": {
     "end_time": "2023-11-19T18:31:47.275948100Z",
     "start_time": "2023-11-19T18:31:47.242834600Z"
    },
    "collapsed": false
   },
   "outputs": [],
   "source": [
    "my_pipi = Create_Pipeline()"
   ]
  },
  {
   "cell_type": "code",
   "execution_count": 10,
   "id": "c961f4162d58e3f1",
   "metadata": {
    "ExecuteTime": {
     "end_time": "2023-11-19T18:31:51.829997700Z",
     "start_time": "2023-11-19T18:31:47.250906500Z"
    },
    "collapsed": false
   },
   "outputs": [],
   "source": [
    "X_train = my_pipi.fit_transform(X_train)"
   ]
  },
  {
   "cell_type": "code",
   "execution_count": 11,
   "metadata": {},
   "outputs": [],
   "source": [
    "# colonne_fam = []\n",
    "# for col in X_train.columns:\n",
    "#     if col.startswith('SEDE_TUMORE_FAMILIARITA'):\n",
    "#         colonne_fam.append(col)\n",
    "#     elif col.startswith('AOP'):\n",
    "#         colonne_fam.append(col)\n",
    "# # colonne_fam\n",
    "\n",
    "for col in X_train.columns:\n",
    "    if col.startswith('AOP'):\n",
    "        X_test[col] = 0\n",
    "        X_val[col] = 0\n",
    "    elif col.startswith('SEDE_TUMORE_FAMILIARITA'):\n",
    "        X_test[col] = 0\n",
    "        X_val[col] = 0"
   ]
  },
  {
   "cell_type": "code",
   "execution_count": 12,
   "metadata": {},
   "outputs": [],
   "source": [
    "# for column in colonne_fam:\n",
    "#     print(X_train[column].value_counts())"
   ]
  },
  {
   "cell_type": "code",
   "execution_count": 13,
   "metadata": {},
   "outputs": [],
   "source": [
    "# for col in colonne_fam:\n",
    "#     if col not in X_test.columns:\n",
    "#         X_test[col] = 0"
   ]
  },
  {
   "cell_type": "code",
   "execution_count": 14,
   "metadata": {},
   "outputs": [],
   "source": [
    "# X_test.columns"
   ]
  },
  {
   "cell_type": "code",
   "execution_count": 15,
   "id": "a6b2a065cea6d61d",
   "metadata": {
    "ExecuteTime": {
     "end_time": "2023-11-19T18:31:53.323430500Z",
     "start_time": "2023-11-19T18:31:51.829008600Z"
    },
    "collapsed": false
   },
   "outputs": [],
   "source": [
    "X_test = my_pipi.transform(X_test)"
   ]
  },
  {
   "cell_type": "code",
   "execution_count": 16,
   "metadata": {},
   "outputs": [],
   "source": [
    "X_val = my_pipi.transform(X_val)"
   ]
  },
  {
   "cell_type": "markdown",
   "id": "41a57bfcf0766656",
   "metadata": {
    "collapsed": false
   },
   "source": [
    "# Selezione Modello"
   ]
  },
  {
   "cell_type": "code",
   "execution_count": 17,
   "id": "588a5b05e6406556",
   "metadata": {
    "collapsed": false
   },
   "outputs": [],
   "source": [
    "from sklearn.ensemble import RandomForestClassifier\n",
    "from sklearn.linear_model import LogisticRegression\n",
    "from sklearn.svm import SVC\n",
    "\n",
    "random_forest = RandomForestClassifier()\n",
    "logistic_regression = LogisticRegression()\n",
    "svc = SVC()"
   ]
  },
  {
   "cell_type": "markdown",
   "id": "49f0f85fdabb00c0",
   "metadata": {
    "collapsed": false
   },
   "source": [
    "# Splitting Normale"
   ]
  },
  {
   "cell_type": "code",
   "execution_count": 18,
   "id": "ca125e2a7c606cb6",
   "metadata": {
    "collapsed": false
   },
   "outputs": [],
   "source": [
    "random_forest_test = random_forest.fit(X_train, y_train)"
   ]
  },
  {
   "cell_type": "code",
   "execution_count": 19,
   "id": "94beff05af2b8a2c",
   "metadata": {
    "collapsed": false
   },
   "outputs": [
    {
     "data": {
      "text/plain": [
       "1.0"
      ]
     },
     "execution_count": 19,
     "metadata": {},
     "output_type": "execute_result"
    }
   ],
   "source": [
    "random_forest_test.score(X_val, y_val)"
   ]
  },
  {
   "cell_type": "code",
   "execution_count": 28,
   "metadata": {},
   "outputs": [
    {
     "data": {
      "text/plain": [
       "1.0"
      ]
     },
     "execution_count": 28,
     "metadata": {},
     "output_type": "execute_result"
    }
   ],
   "source": [
    "f1_score(y_val, random_forest_test.predict(X_val), average='weighted')"
   ]
  },
  {
   "cell_type": "code",
   "execution_count": 20,
   "metadata": {},
   "outputs": [
    {
     "data": {
      "text/plain": [
       "(array([1279], dtype=int64),)"
      ]
     },
     "execution_count": 20,
     "metadata": {},
     "output_type": "execute_result"
    }
   ],
   "source": [
    "predictions = random_forest_test.predict(X_val)\n",
    "# getting unique values of the numpy array\n",
    "# np.unique(predictions, return_counts=True)\n",
    "# getting the row where the value is 1\n",
    "np.where(predictions == 1)"
   ]
  },
  {
   "cell_type": "code",
   "execution_count": 21,
   "metadata": {},
   "outputs": [
    {
     "data": {
      "text/plain": [
       "Index(['ANNO', 'MSP', 'SESSO', 'A.O.P.', 'ETA ALLA DIAGNOSI', 'DIAGNOSI',\n",
       "       'ALTRO ISOTIPO', 'N/D', 'STORIA FAMILIARE POS ',\n",
       "       'SEDE TUMORE FAMILIARITA'', 'Data Firma Referto Formato Corto',\n",
       "       'Data di nascita formato breve', 'PANNELLO', 'CAMPIONE', 'BUILT',\n",
       "       'CHROM', 'POS', 'REF', 'ALT', 'GT', 'GENE_SYMBOL', 'GENE_ENST', 'TYPE',\n",
       "       'HGVSG', 'SAMPLE', 'MOST_SEVERE_CONSEQUENCE', 'IMPACT', 'STRAND',\n",
       "       '1000GP3_EUR_AF', 'CLINPRED_PRED', 'CLINPRED_RANKSCORE', 'CLINVAR_ID',\n",
       "       'DOMAINS', 'GNOMAD_EXOMES_NON_CANCER_NFE_AF',\n",
       "       'MUTATIONASSESSOR_RANKSCORE', 'MUTATIONTASTER_CONVERTED_RANKSCORE',\n",
       "       'POLYPHEN2_HDIV_RANKSCORE', 'SIFT4G_CONVERTED_RANKSCORE',\n",
       "       'SIFT_CONVERTED_RANKSCORE', 'PUBMED', 'PUBMED_COUNT', 'EXON', 'INTRON'],\n",
       "      dtype='object')"
      ]
     },
     "execution_count": 21,
     "metadata": {},
     "output_type": "execute_result"
    }
   ],
   "source": [
    "X_pred.columns"
   ]
  },
  {
   "cell_type": "code",
   "execution_count": 22,
   "metadata": {},
   "outputs": [],
   "source": [
    "for col in X_train.columns:\n",
    "    if col.startswith('AOP'):\n",
    "        X_pred[col] = 0\n",
    "    elif col.startswith('SEDE_TUMORE_FAMILIARITA'):\n",
    "        X_pred[col] = 0"
   ]
  },
  {
   "cell_type": "code",
   "execution_count": 23,
   "metadata": {},
   "outputs": [
    {
     "data": {
      "text/plain": [
       "Index(['ANNO', 'MSP', 'SESSO', 'A.O.P.', 'ETA ALLA DIAGNOSI', 'DIAGNOSI',\n",
       "       'ALTRO ISOTIPO', 'N/D', 'STORIA FAMILIARE POS ',\n",
       "       'SEDE TUMORE FAMILIARITA'', 'Data Firma Referto Formato Corto',\n",
       "       'Data di nascita formato breve', 'PANNELLO', 'CAMPIONE', 'BUILT',\n",
       "       'CHROM', 'POS', 'REF', 'ALT', 'GT', 'GENE_SYMBOL', 'GENE_ENST', 'TYPE',\n",
       "       'HGVSG', 'SAMPLE', 'MOST_SEVERE_CONSEQUENCE', 'IMPACT', 'STRAND',\n",
       "       '1000GP3_EUR_AF', 'CLINPRED_PRED', 'CLINPRED_RANKSCORE', 'CLINVAR_ID',\n",
       "       'DOMAINS', 'GNOMAD_EXOMES_NON_CANCER_NFE_AF',\n",
       "       'MUTATIONASSESSOR_RANKSCORE', 'MUTATIONTASTER_CONVERTED_RANKSCORE',\n",
       "       'POLYPHEN2_HDIV_RANKSCORE', 'SIFT4G_CONVERTED_RANKSCORE',\n",
       "       'SIFT_CONVERTED_RANKSCORE', 'PUBMED', 'PUBMED_COUNT', 'EXON', 'INTRON',\n",
       "       'AOP_M', 'AOP_O', 'AOP_C', 'AOP_PO', 'AOP_A', 'AOP_G',\n",
       "       'SEDE_TUMORE_FAMILIARITA_GASTROINTESTINALE',\n",
       "       'SEDE_TUMORE_FAMILIARITA_BRCA', 'SEDE_TUMORE_FAMILIARITA_MAMMELLA',\n",
       "       'SEDE_TUMORE_FAMILIARITA_SARCOMA', 'SEDE_TUMORE_FAMILIARITA_PROSTATA',\n",
       "       'SEDE_TUMORE_FAMILIARITA_POLMONI', 'SEDE_TUMORE_FAMILIARITA_VESCICA',\n",
       "       'SEDE_TUMORE_FAMILIARITA_CERVELLO', 'SEDE_TUMORE_FAMILIARITA_OVAIO',\n",
       "       'SEDE_TUMORE_FAMILIARITA_UTERO', 'SEDE_TUMORE_FAMILIARITA_PANCREAS',\n",
       "       'SEDE_TUMORE_FAMILIARITA_ALTRO', 'SEDE_TUMORE_FAMILIARITA_RETTO',\n",
       "       'SEDE_TUMORE_FAMILIARITA_ORALE', 'SEDE_TUMORE_FAMILIARITA_MELANOMA',\n",
       "       'SEDE_TUMORE_FAMILIARITA_FEGATO', 'SEDE_TUMORE_FAMILIARITA_ESOFAGO'],\n",
       "      dtype='object')"
      ]
     },
     "execution_count": 23,
     "metadata": {},
     "output_type": "execute_result"
    }
   ],
   "source": [
    "X_pred.columns"
   ]
  },
  {
   "cell_type": "code",
   "execution_count": 24,
   "metadata": {},
   "outputs": [],
   "source": [
    "X_pred = my_pipi.transform(X_pred)"
   ]
  },
  {
   "cell_type": "code",
   "execution_count": 25,
   "metadata": {},
   "outputs": [
    {
     "data": {
      "text/plain": [
       "(array([0], dtype=int64), array([144], dtype=int64))"
      ]
     },
     "execution_count": 25,
     "metadata": {},
     "output_type": "execute_result"
    }
   ],
   "source": [
    "predictions = random_forest_test.predict(X_pred)\n",
    "\n",
    "np.unique(predictions, return_counts=True)"
   ]
  },
  {
   "cell_type": "markdown",
   "id": "b464c08a953600f6",
   "metadata": {
    "collapsed": false
   },
   "source": [
    "# Splitting con K-fold"
   ]
  },
  {
   "cell_type": "code",
   "execution_count": 26,
   "id": "532c6878f61caf05",
   "metadata": {
    "collapsed": false
   },
   "outputs": [],
   "source": [
    "train_fold = StratifiedKFold(n_splits=10, random_state=21, shuffle=True)\n",
    "val_fold = StratifiedKFold(n_splits=10, random_state=21, shuffle=True)"
   ]
  },
  {
   "cell_type": "code",
   "execution_count": 27,
   "id": "49552096c40bc9d4",
   "metadata": {
    "collapsed": false
   },
   "outputs": [
    {
     "ename": "KeyError",
     "evalue": "'STRATIFY_COL'",
     "output_type": "error",
     "traceback": [
      "\u001b[1;31m---------------------------------------------------------------------------\u001b[0m",
      "\u001b[1;31mKeyError\u001b[0m                                  Traceback (most recent call last)",
      "File \u001b[1;32mc:\\Users\\AlessandroKuz\\.conda\\envs\\projectWork\\Lib\\site-packages\\pandas\\core\\indexes\\base.py:3790\u001b[0m, in \u001b[0;36mIndex.get_loc\u001b[1;34m(self, key)\u001b[0m\n\u001b[0;32m   3789\u001b[0m \u001b[39mtry\u001b[39;00m:\n\u001b[1;32m-> 3790\u001b[0m     \u001b[39mreturn\u001b[39;00m \u001b[39mself\u001b[39;49m\u001b[39m.\u001b[39;49m_engine\u001b[39m.\u001b[39;49mget_loc(casted_key)\n\u001b[0;32m   3791\u001b[0m \u001b[39mexcept\u001b[39;00m \u001b[39mKeyError\u001b[39;00m \u001b[39mas\u001b[39;00m err:\n",
      "File \u001b[1;32mindex.pyx:152\u001b[0m, in \u001b[0;36mpandas._libs.index.IndexEngine.get_loc\u001b[1;34m()\u001b[0m\n",
      "File \u001b[1;32mindex.pyx:181\u001b[0m, in \u001b[0;36mpandas._libs.index.IndexEngine.get_loc\u001b[1;34m()\u001b[0m\n",
      "File \u001b[1;32mpandas\\_libs\\hashtable_class_helper.pxi:7080\u001b[0m, in \u001b[0;36mpandas._libs.hashtable.PyObjectHashTable.get_item\u001b[1;34m()\u001b[0m\n",
      "File \u001b[1;32mpandas\\_libs\\hashtable_class_helper.pxi:7088\u001b[0m, in \u001b[0;36mpandas._libs.hashtable.PyObjectHashTable.get_item\u001b[1;34m()\u001b[0m\n",
      "\u001b[1;31mKeyError\u001b[0m: 'STRATIFY_COL'",
      "\nThe above exception was the direct cause of the following exception:\n",
      "\u001b[1;31mKeyError\u001b[0m                                  Traceback (most recent call last)",
      "\u001b[1;32mc:\\Users\\AlessandroKuz\\Documents\\GitHub\\BRCA-MachineLearning\\model_selection\\hc_machine_learning.ipynb Cell 32\u001b[0m line \u001b[0;36m1\n\u001b[1;32m----> <a href='vscode-notebook-cell:/c%3A/Users/AlessandroKuz/Documents/GitHub/BRCA-MachineLearning/model_selection/hc_machine_learning.ipynb#X43sZmlsZQ%3D%3D?line=0'>1</a>\u001b[0m \u001b[39mfor\u001b[39;00m i, (train_index, test_index) \u001b[39min\u001b[39;00m \u001b[39menumerate\u001b[39m(train_fold\u001b[39m.\u001b[39msplit(X, X[\u001b[39m'\u001b[39;49m\u001b[39mSTRATIFY_COL\u001b[39;49m\u001b[39m'\u001b[39;49m])):\n\u001b[0;32m      <a href='vscode-notebook-cell:/c%3A/Users/AlessandroKuz/Documents/GitHub/BRCA-MachineLearning/model_selection/hc_machine_learning.ipynb#X43sZmlsZQ%3D%3D?line=1'>2</a>\u001b[0m     X_train_temp, X_test \u001b[39m=\u001b[39m X\u001b[39m.\u001b[39miloc[train_index], X\u001b[39m.\u001b[39miloc[test_index]\n\u001b[0;32m      <a href='vscode-notebook-cell:/c%3A/Users/AlessandroKuz/Documents/GitHub/BRCA-MachineLearning/model_selection/hc_machine_learning.ipynb#X43sZmlsZQ%3D%3D?line=2'>3</a>\u001b[0m     y_train_temp, y_test \u001b[39m=\u001b[39m y\u001b[39m.\u001b[39miloc[train_index], y\u001b[39m.\u001b[39miloc[test_index]\n",
      "File \u001b[1;32mc:\\Users\\AlessandroKuz\\.conda\\envs\\projectWork\\Lib\\site-packages\\pandas\\core\\frame.py:3896\u001b[0m, in \u001b[0;36mDataFrame.__getitem__\u001b[1;34m(self, key)\u001b[0m\n\u001b[0;32m   3894\u001b[0m \u001b[39mif\u001b[39;00m \u001b[39mself\u001b[39m\u001b[39m.\u001b[39mcolumns\u001b[39m.\u001b[39mnlevels \u001b[39m>\u001b[39m \u001b[39m1\u001b[39m:\n\u001b[0;32m   3895\u001b[0m     \u001b[39mreturn\u001b[39;00m \u001b[39mself\u001b[39m\u001b[39m.\u001b[39m_getitem_multilevel(key)\n\u001b[1;32m-> 3896\u001b[0m indexer \u001b[39m=\u001b[39m \u001b[39mself\u001b[39;49m\u001b[39m.\u001b[39;49mcolumns\u001b[39m.\u001b[39;49mget_loc(key)\n\u001b[0;32m   3897\u001b[0m \u001b[39mif\u001b[39;00m is_integer(indexer):\n\u001b[0;32m   3898\u001b[0m     indexer \u001b[39m=\u001b[39m [indexer]\n",
      "File \u001b[1;32mc:\\Users\\AlessandroKuz\\.conda\\envs\\projectWork\\Lib\\site-packages\\pandas\\core\\indexes\\base.py:3797\u001b[0m, in \u001b[0;36mIndex.get_loc\u001b[1;34m(self, key)\u001b[0m\n\u001b[0;32m   3792\u001b[0m     \u001b[39mif\u001b[39;00m \u001b[39misinstance\u001b[39m(casted_key, \u001b[39mslice\u001b[39m) \u001b[39mor\u001b[39;00m (\n\u001b[0;32m   3793\u001b[0m         \u001b[39misinstance\u001b[39m(casted_key, abc\u001b[39m.\u001b[39mIterable)\n\u001b[0;32m   3794\u001b[0m         \u001b[39mand\u001b[39;00m \u001b[39many\u001b[39m(\u001b[39misinstance\u001b[39m(x, \u001b[39mslice\u001b[39m) \u001b[39mfor\u001b[39;00m x \u001b[39min\u001b[39;00m casted_key)\n\u001b[0;32m   3795\u001b[0m     ):\n\u001b[0;32m   3796\u001b[0m         \u001b[39mraise\u001b[39;00m InvalidIndexError(key)\n\u001b[1;32m-> 3797\u001b[0m     \u001b[39mraise\u001b[39;00m \u001b[39mKeyError\u001b[39;00m(key) \u001b[39mfrom\u001b[39;00m \u001b[39merr\u001b[39;00m\n\u001b[0;32m   3798\u001b[0m \u001b[39mexcept\u001b[39;00m \u001b[39mTypeError\u001b[39;00m:\n\u001b[0;32m   3799\u001b[0m     \u001b[39m# If we have a listlike key, _check_indexing_error will raise\u001b[39;00m\n\u001b[0;32m   3800\u001b[0m     \u001b[39m#  InvalidIndexError. Otherwise we fall through and re-raise\u001b[39;00m\n\u001b[0;32m   3801\u001b[0m     \u001b[39m#  the TypeError.\u001b[39;00m\n\u001b[0;32m   3802\u001b[0m     \u001b[39mself\u001b[39m\u001b[39m.\u001b[39m_check_indexing_error(key)\n",
      "\u001b[1;31mKeyError\u001b[0m: 'STRATIFY_COL'"
     ]
    }
   ],
   "source": [
    "for i, (train_index, test_index) in enumerate(train_fold.split(X, X['STRATIFY_COL'])):\n",
    "    X_train_temp, X_test = X.iloc[train_index], X.iloc[test_index]\n",
    "    y_train_temp, y_test = y.iloc[train_index], y.iloc[test_index]\n",
    "\n",
    "    for j, (train_index, val_index) in enumerate(val_fold.split(X_train_temp, X_train_temp['STRATIFY_COL'])):\n",
    "        X_train, X_val = X_train_temp.iloc[train_index], X_train_temp.iloc[val_index]\n",
    "        y_train, y_val = y_train_temp.iloc[train_index], y_train_temp.iloc[val_index]\n",
    "\n",
    "        # Model training and evaluation\n",
    "        random_forest = RandomForestClassifier()\n",
    "        random_forest_test = random_forest.fit(X_train, y_train)\n",
    "        score = random_forest_test.score(X_val, y_val)\n",
    "\n",
    "        # Model prediction\n",
    "        predictions = random_forest_test.predict(X_pred)\n",
    "\n",
    "        # Model evaluation\n",
    "        np.unique(predictions, return_counts=True)\n",
    "\n",
    "        # Save model\n",
    "        import pickle\n",
    "\n",
    "\n",
    "        "
   ]
  }
 ],
 "metadata": {
  "kernelspec": {
   "display_name": "Python 3",
   "language": "python",
   "name": "python3"
  },
  "language_info": {
   "codemirror_mode": {
    "name": "ipython",
    "version": 3
   },
   "file_extension": ".py",
   "mimetype": "text/x-python",
   "name": "python",
   "nbconvert_exporter": "python",
   "pygments_lexer": "ipython3",
   "version": "3.11.3"
  }
 },
 "nbformat": 4,
 "nbformat_minor": 5
}
