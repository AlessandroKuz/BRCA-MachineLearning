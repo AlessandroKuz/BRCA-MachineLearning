{
 "cells": [
  {
   "cell_type": "code",
   "execution_count": null,
   "id": "763ac3ff5f620139",
   "metadata": {
    "ExecuteTime": {
     "end_time": "2023-11-14T13:22:10.499883700Z",
     "start_time": "2023-11-14T13:22:09.140667900Z"
    },
    "collapsed": false
   },
   "outputs": [],
   "source": [
    "from sklearn.model_selection import train_test_split\n",
    "from sklearn.decomposition import PCA\n",
    "import pandas as pd\n",
    "import numpy as np\n",
    "\n",
    "from sklearn.impute import KNNImputer\n",
    "from sklearn.preprocessing import StandardScaler, MinMaxScaler\n",
    "import umap"
   ]
  },
  {
   "cell_type": "code",
   "execution_count": null,
   "id": "9e683323c1bfc767",
   "metadata": {
    "ExecuteTime": {
     "end_time": "2023-11-14T13:22:10.672406700Z",
     "start_time": "2023-11-14T13:22:10.504512300Z"
    },
    "collapsed": false
   },
   "outputs": [],
   "source": [
    "# Carica il dataset da dividere\n",
    "untouched = pd.read_csv(\"BRCA_FINISHED_DATASET_WITH_VEP.csv\")"
   ]
  },
  {
   "cell_type": "markdown",
   "metadata": {},
   "source": [
    "# PCA"
   ]
  },
  {
   "cell_type": "code",
   "execution_count": null,
   "metadata": {},
   "outputs": [],
   "source": [
    "df = untouched.copy()"
   ]
  },
  {
   "cell_type": "code",
   "execution_count": null,
   "id": "763b6cae5d804157",
   "metadata": {
    "ExecuteTime": {
     "end_time": "2023-11-14T13:22:10.774806300Z",
     "start_time": "2023-11-14T13:22:10.690833900Z"
    },
    "collapsed": false
   },
   "outputs": [],
   "source": [
    "# Applica la PCA sulle colonne specificate\n",
    "pca = PCA(n_components=1)\n",
    "df[\"HGVS\"] = pca.fit_transform(df[[\"HGVSG_SOST\", \"HGVSG_INS\", \"HGVSG_DEL\"]])\n",
    "pca.explained_variance_ratio_"
   ]
  },
  {
   "cell_type": "code",
   "execution_count": null,
   "id": "a952a1672b01cf80",
   "metadata": {
    "ExecuteTime": {
     "end_time": "2023-11-14T13:22:10.778110500Z",
     "start_time": "2023-11-14T13:22:10.725837800Z"
    },
    "collapsed": false
   },
   "outputs": [],
   "source": [
    "df['PCA'] = pca.fit_transform(df[[\"LABEL\", \"SESSO\", \"HGVS\"]]) # , \"TYPE_SOMATIC\"]])\n",
    "pca.explained_variance_ratio_"
   ]
  },
  {
   "cell_type": "code",
   "execution_count": null,
   "id": "137d7dc04f9d0aa2",
   "metadata": {
    "ExecuteTime": {
     "end_time": "2023-11-14T13:22:10.779100700Z",
     "start_time": "2023-11-14T13:22:10.758045900Z"
    },
    "collapsed": false
   },
   "outputs": [],
   "source": [
    "#moltiplico la colonna per 10 per avere numeri interi\n",
    "df['PCA'] = df['PCA'] * 100\n",
    "df['PCA'] = df['PCA'].astype(int)"
   ]
  },
  {
   "cell_type": "code",
   "execution_count": null,
   "id": "42297dd43ea6448d",
   "metadata": {
    "ExecuteTime": {
     "end_time": "2023-11-14T13:22:10.827900Z",
     "start_time": "2023-11-14T13:22:10.769818700Z"
    },
    "collapsed": false
   },
   "outputs": [],
   "source": [
    "df[\"PCA\"].value_counts()"
   ]
  },
  {
   "cell_type": "code",
   "execution_count": null,
   "id": "f48ba07328e03f81",
   "metadata": {
    "ExecuteTime": {
     "end_time": "2023-11-14T13:22:10.845663900Z",
     "start_time": "2023-11-14T13:22:10.787690400Z"
    },
    "collapsed": false
   },
   "outputs": [],
   "source": [
    "# Esegui la divisione stratificata\n",
    "X_train, X_test, y_train, y_test = train_test_split(df.drop('LABEL', axis=1), df['LABEL'], test_size=0.2, random_state=25, stratify=df['PCA'])"
   ]
  },
  {
   "cell_type": "code",
   "execution_count": null,
   "id": "b858e532219fb674",
   "metadata": {
    "ExecuteTime": {
     "end_time": "2023-11-14T13:22:10.877924300Z",
     "start_time": "2023-11-14T13:22:10.848219900Z"
    },
    "collapsed": false
   },
   "outputs": [],
   "source": [
    "# calcolo la percentuale di ogni classe nel train set\n",
    "y_train.value_counts(normalize=True) * 100"
   ]
  },
  {
   "cell_type": "code",
   "execution_count": null,
   "metadata": {},
   "outputs": [],
   "source": [
    "# calcolo la percentuale di ogni classe nel train set\n",
    "y_train.value_counts(normalize=True) * 100"
   ]
  },
  {
   "cell_type": "code",
   "execution_count": null,
   "metadata": {},
   "outputs": [],
   "source": [
    "y_test.value_counts(normalize=True) * 100"
   ]
  },
  {
   "cell_type": "code",
   "execution_count": null,
   "metadata": {},
   "outputs": [],
   "source": [
    "#droppo la colonna PCA\n",
    "X_train = X_train.drop('PCA', axis=1)\n",
    "X_test = X_test.drop('PCA', axis=1)\n",
    "\n",
    "#droppo la colonna HGVS\n",
    "X_train = X_train.drop('HGVS', axis=1)\n",
    "X_test = X_test.drop('HGVS', axis=1)"
   ]
  },
  {
   "cell_type": "code",
   "execution_count": null,
   "metadata": {},
   "outputs": [],
   "source": [
    "# salvo i file\n",
    "X_train.to_csv(\"X_train_PCA.csv\", index=False)\n",
    "X_test.to_csv(\"X_test_PCA.csv\", index=False)\n",
    "y_train.to_csv(\"y_train_PCA.csv\", index=False)\n",
    "y_test.to_csv(\"y_test_PCA.csv\", index=False)"
   ]
  },
  {
   "cell_type": "markdown",
   "id": "af6644dfeeaa70ea",
   "metadata": {
    "collapsed": false
   },
   "source": [
    "# UMAP"
   ]
  },
  {
   "cell_type": "code",
   "execution_count": null,
   "metadata": {},
   "outputs": [],
   "source": [
    "df = untouched.copy()"
   ]
  },
  {
   "cell_type": "code",
   "execution_count": null,
   "metadata": {},
   "outputs": [],
   "source": [
    "tha_umap = umap.UMAP(n_components=1)"
   ]
  },
  {
   "cell_type": "code",
   "execution_count": null,
   "id": "9d76a3092163077c",
   "metadata": {
    "ExecuteTime": {
     "end_time": "2023-11-14T13:22:11.430863600Z",
     "start_time": "2023-11-14T13:22:10.892824Z"
    },
    "collapsed": false
   },
   "outputs": [],
   "source": [
    "df[\"HGVS\"] =tha_umap.fit_transform(df[[\"HGVSG_SOST\", \"HGVSG_INS\", \"HGVSG_DEL\"]])"
   ]
  },
  {
   "cell_type": "code",
   "execution_count": null,
   "id": "d3265e2f99289d84",
   "metadata": {
    "ExecuteTime": {
     "start_time": "2023-11-14T13:22:11.407086100Z"
    },
    "collapsed": false
   },
   "outputs": [],
   "source": [
    "df[\"umap\"] = tha_umap.fit_transform(df[[\"LABEL\", \"SESSO\", \"HGVS\"]])"
   ]
  },
  {
   "cell_type": "code",
   "execution_count": null,
   "metadata": {},
   "outputs": [],
   "source": [
    "# per non avere valori unici utilizzo una knn per raggruppare i valori simili e poi li imputo con la media\n",
    "imputer = KNNImputer()\n",
    "#sostituisco i valori unici con nan\n",
    "valori_unici = df['umap'].value_counts()[df['umap'].value_counts() == 1].index\n",
    "df['umap'] = df['umap'].replace(valori_unici, np.nan)\n",
    "#imputo i valori nan con la media\n",
    "df['umap'] = imputer.fit_transform(df[['umap']])"
   ]
  },
  {
   "cell_type": "code",
   "execution_count": null,
   "metadata": {},
   "outputs": [],
   "source": [
    "# df[\"umap\"] = StandardScaler().fit_transform(df[[\"umap\"]])\n",
    "# df = df.sort_index()\n",
    "\n",
    "\n",
    "\n",
    "df[\"umap\"] = df[\"umap\"] * 100\n",
    "df[\"umap\"] = df[\"umap\"].astype(int)\n",
    "\n",
    "\n",
    "# # se il value_counts() è uguale a 1, allora non è possibile fare la stratificazione, lo sostituisco quindi con il valore più vicino\n",
    "# for i in df[\"umap\"].value_counts().index:\n",
    "#     if df[\"umap\"].value_counts()[i] == 1:\n",
    "#         #aumento il valore i di 1 e lo sostituisco\n",
    "#         df[\"umap\"].replace(i, i+1, inplace=True)\n",
    "#         print(\"Sostituito il valore\", i)\n",
    "\n",
    "\n",
    "df[\"umap\"].value_counts()"
   ]
  },
  {
   "cell_type": "code",
   "execution_count": null,
   "metadata": {},
   "outputs": [],
   "source": [
    "# Esegui la divisione stratificata\n",
    "X_train, X_test, y_train, y_test = train_test_split(df.drop('LABEL', axis=1), df['LABEL'], test_size=0.2, stratify=df['umap'])"
   ]
  },
  {
   "cell_type": "code",
   "execution_count": null,
   "metadata": {},
   "outputs": [],
   "source": [
    "# calcolo la percentuale di ogni classe nel train set\n",
    "y_train.value_counts(normalize=True) * 100"
   ]
  },
  {
   "cell_type": "code",
   "execution_count": null,
   "id": "177f458cead89522",
   "metadata": {
    "ExecuteTime": {
     "end_time": "2023-11-14T13:22:10.957285200Z",
     "start_time": "2023-11-14T13:22:10.880910400Z"
    },
    "collapsed": false
   },
   "outputs": [],
   "source": [
    "y_test.value_counts(normalize=True) * 100"
   ]
  },
  {
   "cell_type": "code",
   "execution_count": null,
   "metadata": {},
   "outputs": [],
   "source": [
    "#droppo la colonna umap\n",
    "X_train = X_train.drop('umap', axis=1)\n",
    "X_test = X_test.drop('umap', axis=1)\n",
    "\n",
    "#droppo la colonna HGVS\n",
    "X_train = X_train.drop('HGVS', axis=1)\n",
    "X_test = X_test.drop('HGVS', axis=1)"
   ]
  },
  {
   "cell_type": "code",
   "execution_count": null,
   "metadata": {},
   "outputs": [],
   "source": [
    "# salvo i file\n",
    "X_train.to_csv(\"X_train_umap.csv\", index=False)\n",
    "X_test.to_csv(\"X_test_umap.csv\", index=False)\n",
    "y_train.to_csv(\"y_train_umap.csv\", index=False)\n",
    "y_test.to_csv(\"y_test_umap.csv\", index=False)"
   ]
  }
 ],
 "metadata": {
  "kernelspec": {
   "display_name": "Python 3",
   "language": "python",
   "name": "python3"
  },
  "language_info": {
   "codemirror_mode": {
    "name": "ipython",
    "version": 3
   },
   "file_extension": ".py",
   "mimetype": "text/x-python",
   "name": "python",
   "nbconvert_exporter": "python",
   "pygments_lexer": "ipython3",
   "version": "3.11.4"
  }
 },
 "nbformat": 4,
 "nbformat_minor": 5
}
